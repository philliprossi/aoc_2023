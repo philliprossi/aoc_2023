{
 "cells": [
  {
   "cell_type": "markdown",
   "metadata": {},
   "source": [
    "## Day 1"
   ]
  },
  {
   "cell_type": "code",
   "execution_count": 93,
   "metadata": {},
   "outputs": [],
   "source": [
    "with open('inputs/day01.txt') as f:\n",
    "    lines = f.readlines()\n",
    "    lines = [line.strip() for line in lines]"
   ]
  },
  {
   "cell_type": "code",
   "execution_count": 94,
   "metadata": {},
   "outputs": [
    {
     "name": "stdout",
     "output_type": "stream",
     "text": [
      "55108\n"
     ]
    }
   ],
   "source": [
    "# Day 1 - Part 1\n",
    "\n",
    "def reverse_string(s):\n",
    "    return s[::-1]\n",
    "sum = 0\n",
    "for line in lines:\n",
    "    first_number = next((int(c) for c in line if c.isdigit()), None)\n",
    "    last_number = next((int(c) for c in reverse_string(line) if c.isdigit()), None)\n",
    "    \n",
    "    if first_number is not None and last_number is not None:\n",
    "        sum += int(str(first_number) + str(last_number))\n",
    "print(sum)"
   ]
  },
  {
   "cell_type": "code",
   "execution_count": 95,
   "metadata": {},
   "outputs": [],
   "source": [
    "numbers = ['one', 'two', 'three', 'four', 'five', 'six', 'seven', 'eight', 'nine','1','2','3','4','5','6','7','8','9']\n",
    "\n",
    "word_to_number = {\"one\": 1,\"two\": 2,\"three\": 3,\"four\": 4,\"five\": 5,\"six\": 6,\"seven\":7,\"eight\":8,\"nine\":9,\"1\":1,\"2\":2,\"3\":3,\"4\":4,\"5\":5,\"6\":6,\"7\":7,\"8\":8,\"9\":9}\n"
   ]
  },
  {
   "cell_type": "code",
   "execution_count": 96,
   "metadata": {},
   "outputs": [
    {
     "name": "stdout",
     "output_type": "stream",
     "text": [
      "56324\n"
     ]
    }
   ],
   "source": [
    "# Day 1 - Part 1\n",
    "\n",
    "total = 0\n",
    "for line in lines:\n",
    "    find_min = {number: line.find(number) for number in numbers if line.find(number) >= 0}\n",
    "    find_max = {number: line.rfind(number) for number in numbers if line.rfind(number) >= 0}\n",
    "\n",
    "    min_key = min(find_min, key=find_min.get)\n",
    "    max_key = max(find_max, key=find_max.get)\n",
    "\n",
    "    total += int(str(word_to_number[min_key]) + str(word_to_number[max_key]))\n",
    "\n",
    "print(total)"
   ]
  },
  {
   "cell_type": "markdown",
   "metadata": {},
   "source": [
    "## Day 2"
   ]
  },
  {
   "cell_type": "code",
   "execution_count": 45,
   "metadata": {},
   "outputs": [],
   "source": [
    "with open('inputs/day02.txt') as f:\n",
    "    lines = f.readlines()\n",
    "    lines = [line.strip() for line in lines]"
   ]
  },
  {
   "cell_type": "code",
   "execution_count": 35,
   "metadata": {},
   "outputs": [
    {
     "data": {
      "text/plain": [
       "2105"
      ]
     },
     "execution_count": 35,
     "metadata": {},
     "output_type": "execute_result"
    }
   ],
   "source": [
    "#part 1\n",
    "\n",
    "maxes = {\n",
    " 'red':12,\n",
    " 'green':13,\n",
    " 'blue':14\n",
    "}\n",
    "\n",
    "game_results = {}\n",
    "passed_games = []\n",
    "for line in lines:\n",
    "    #print(line)\n",
    "    game = int(line.split(':')[0].split()[1])\n",
    "    rounds = line.split(':')[1].split(';')\n",
    "\n",
    "    possible = True\n",
    "    for round in rounds:\n",
    "        for cube in round:\n",
    "            cube = round.split(',')\n",
    "\n",
    "            for colour in cube:\n",
    "                #print(colour)\n",
    "                number = colour.strip().split()[0]\n",
    "                colour = colour.strip().split()[1]\n",
    "\n",
    "                if int(number) > maxes[colour]:\n",
    "                    possible = False\n",
    "    if possible:\n",
    "        passed_games.append(game)\n",
    "\n",
    "sum(passed_games)"
   ]
  },
  {
   "cell_type": "code",
   "execution_count": 46,
   "metadata": {},
   "outputs": [
    {
     "data": {
      "text/plain": [
       "72422"
      ]
     },
     "execution_count": 46,
     "metadata": {},
     "output_type": "execute_result"
    }
   ],
   "source": [
    "#part 2\n",
    "from functools import reduce\n",
    "\n",
    "game_results = []\n",
    "for line in lines:\n",
    "    #print(line)\n",
    "    game = int(line.split(':')[0].split()[1])\n",
    "    rounds = line.split(':')[1].split(';')\n",
    "    game_min_results = []\n",
    "    game_min = {}\n",
    "    for round in rounds:\n",
    "        for cube in round:\n",
    "            cube = round.split(',')\n",
    "            for colour in cube:\n",
    "                number = int(colour.strip().split()[0])\n",
    "                colour = colour.strip().split()[1]\n",
    "                if colour in game_min:\n",
    "                    game_min[colour] = max(number, game_min[colour])\n",
    "                else:\n",
    "                    game_min[colour] = number\n",
    "    game_min_results = list(game_min.values())\n",
    "    game_results.append(reduce(lambda x, y: x*y, game_min_results))\n",
    "\n",
    "sum(game_results)\n"
   ]
  },
  {
   "cell_type": "markdown",
   "metadata": {},
   "source": [
    "## Day 3"
   ]
  },
  {
   "cell_type": "code",
   "execution_count": 190,
   "metadata": {},
   "outputs": [],
   "source": [
    "with open('inputs/day03.txt') as f:\n",
    "    lines = f.readlines()\n",
    "    lines = [line.strip() for line in lines]"
   ]
  },
  {
   "cell_type": "code",
   "execution_count": 191,
   "metadata": {},
   "outputs": [],
   "source": [
    "#reged to pull numbers from string like this \"467..114..\"\n",
    "import re\n",
    "def find_numbers_with_position(s):\n",
    "    matches = re.finditer(r'\\d+', s)\n",
    "    return [[int(match.group()), match.start()] for match in matches]\n",
    "\n",
    "#for each number (number, column, row, length)\n",
    "row = 0\n",
    "number_dict = {}\n",
    "for line in lines:\n",
    "    #print(find_numbers_with_position(line))\n",
    "    numbers_in_line = find_numbers_with_position(line)\n",
    "\n",
    "    for number in numbers_in_line:\n",
    "        number.append(row)\n",
    "        number.append(len(str(number[0])))\n",
    "    row += 1\n",
    "    for number in numbers_in_line:\n",
    "    \n",
    "        if number[0] in number_dict:\n",
    "            number_dict[number[0]].append(number[1:])\n",
    "        else:\n",
    "            number_dict[number[0]] = [number[1:]]\n",
    "\n",
    "#regular expression to match anything not a number or . in lines \"like 617*......\"\n",
    "def find_non_numbers_with_position(s):\n",
    "    matches = re.finditer(r'[^0-9.]', s)\n",
    "    return [[match.group(), match.start()] for match in matches]\n",
    "\n",
    "row = 0\n",
    "special_character_dict = {}\n",
    "for line in lines:\n",
    "    #print(find_non_numbers_with_position(line))\n",
    "    non_numbers_in_line = find_non_numbers_with_position(line)\n",
    "\n",
    "    for non_number in non_numbers_in_line:\n",
    "        non_number.append(row)\n",
    "        if non_number[0] in special_character_dict:\n",
    "            special_character_dict[non_number[0]].append(non_number[1:])\n",
    "        else:\n",
    "            special_character_dict[non_number[0]] = [non_number[1:]]\n",
    "\n",
    "    row += 1"
   ]
  },
  {
   "cell_type": "code",
   "execution_count": 192,
   "metadata": {},
   "outputs": [],
   "source": [
    "special_character_dict_reverse = {}\n",
    "for key, value in special_character_dict.items():\n",
    "    for v in value:\n",
    "        special_character_dict_reverse[tuple(v)] = key"
   ]
  },
  {
   "cell_type": "code",
   "execution_count": 193,
   "metadata": {},
   "outputs": [
    {
     "data": {
      "text/plain": [
       "525119"
      ]
     },
     "execution_count": 193,
     "metadata": {},
     "output_type": "execute_result"
    }
   ],
   "source": [
    "#go through each number and find if a special character is adjacent\n",
    "\n",
    "special_numbers = []\n",
    "special_character_dict_reverse_matches = {}\n",
    "for number, coords_list in number_dict.items():\n",
    "    for coords in coords_list:\n",
    "        col = coords[0]\n",
    "        row = coords[1]\n",
    "        length = coords[2]\n",
    "\n",
    "        special_charater_found = False\n",
    "\n",
    "        # scenario 1 - (col - 1, row -1)  to (col+len+1, y-1)\n",
    "        for x in range(col - 1 , col + length+1):\n",
    "            t = (x, row-1)\n",
    "            if t in special_character_dict_reverse:\n",
    "                special_charater_found = True\n",
    "                \n",
    "            if t in special_character_dict_reverse and special_character_dict_reverse[t] == '*':\n",
    "                if t in special_character_dict_reverse_matches:\n",
    "                    special_character_dict_reverse_matches[t].append(number)\n",
    "                else:\n",
    "                    special_character_dict_reverse_matches[t] = [number]\n",
    "\n",
    "\n",
    "        #scenario 2 (col-1, row) and (col+len+1, row)\n",
    "        t = (col-1,row)\n",
    "        if t in special_character_dict_reverse:\n",
    "            special_charater_found = True\n",
    "            if t in special_character_dict_reverse and special_character_dict_reverse[t] == '*':\n",
    "                if t in special_character_dict_reverse_matches:\n",
    "                    special_character_dict_reverse_matches[t].append(number)\n",
    "                else:\n",
    "                    special_character_dict_reverse_matches[t] = [number]\n",
    "\n",
    "        t = (col+length,row) \n",
    "        if (col+length,row) in special_character_dict_reverse:\n",
    "            special_charater_found = True\n",
    "            \n",
    "            if t in special_character_dict_reverse and special_character_dict_reverse[t] == '*':\n",
    "                if t in special_character_dict_reverse_matches:\n",
    "                    special_character_dict_reverse_matches[t].append(number)\n",
    "                else:\n",
    "                    special_character_dict_reverse_matches[t] = [number]\n",
    "\n",
    "        #scenario 3 (col-1, row+1) to (col_len+1, row+1)\n",
    "        for x in range(col - 1 , col + length+1):\n",
    "            t = (x, row+1)\n",
    "\n",
    "            if t in special_character_dict_reverse:\n",
    "                special_charater_found = True\n",
    "\n",
    "            if t in special_character_dict_reverse and special_character_dict_reverse[t] == '*':\n",
    "                if t in special_character_dict_reverse_matches:\n",
    "                    special_character_dict_reverse_matches[t].append(number)\n",
    "                else:\n",
    "                    special_character_dict_reverse_matches[t] = [number]\n",
    "\n",
    "        if special_charater_found:\n",
    "            special_numbers.append(number)\n",
    "    \n",
    "sum(special_numbers)"
   ]
  },
  {
   "cell_type": "markdown",
   "metadata": {},
   "source": [
    "### Part 2"
   ]
  },
  {
   "cell_type": "code",
   "execution_count": 198,
   "metadata": {},
   "outputs": [
    {
     "data": {
      "text/plain": [
       "76504829"
      ]
     },
     "execution_count": 198,
     "metadata": {},
     "output_type": "execute_result"
    }
   ],
   "source": [
    "total = 0\n",
    "for k, v in special_character_dict_reverse_matches.items():\n",
    "    if len(v) == 2:\n",
    "        gear = v[0] * v[1]\n",
    "        total += gear\n",
    "total"
   ]
  }
 ],
 "metadata": {
  "kernelspec": {
   "display_name": ".venv",
   "language": "python",
   "name": "python3"
  },
  "language_info": {
   "codemirror_mode": {
    "name": "ipython",
    "version": 3
   },
   "file_extension": ".py",
   "mimetype": "text/x-python",
   "name": "python",
   "nbconvert_exporter": "python",
   "pygments_lexer": "ipython3",
   "version": "3.11.3"
  }
 },
 "nbformat": 4,
 "nbformat_minor": 2
}
