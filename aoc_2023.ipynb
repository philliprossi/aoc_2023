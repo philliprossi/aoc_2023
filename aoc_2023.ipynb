{
 "cells": [
  {
   "cell_type": "markdown",
   "metadata": {},
   "source": [
    "## Day 1"
   ]
  },
  {
   "cell_type": "code",
   "execution_count": 79,
   "metadata": {},
   "outputs": [],
   "source": [
    "with open('inputs/day01.txt') as f:\n",
    "    lines = f.readlines()\n",
    "    lines = [line.strip() for line in lines]\n"
   ]
  },
  {
   "cell_type": "code",
   "execution_count": 80,
   "metadata": {},
   "outputs": [
    {
     "name": "stdout",
     "output_type": "stream",
     "text": [
      "55108\n"
     ]
    }
   ],
   "source": [
    "# Day 1 - Part 1\n",
    "\n",
    "def reverse_string(s):\n",
    "    return s[::-1]\n",
    "\n",
    "sum = 0\n",
    "\n",
    "for line in lines:\n",
    "    first_number = next((int(c) for c in line if c.isdigit()), None)\n",
    "    last_number = next((int(c) for c in reverse_string(line) if c.isdigit()), None)\n",
    "    \n",
    "    if first_number is not None and last_number is not None:\n",
    "        sum += int(str(first_number) + str(last_number))\n",
    "\n",
    "print(sum)"
   ]
  },
  {
   "cell_type": "code",
   "execution_count": 81,
   "metadata": {},
   "outputs": [],
   "source": [
    "numbers = ['one', 'two', 'three', 'four', 'five', 'six', 'seven', 'eight', 'nine','1','2','3','4','5','6','7','8','9']\n",
    "\n",
    "word_to_number = {\n",
    "    \"one\": 1,\n",
    "    \"two\": 2,\n",
    "    \"three\": 3,\n",
    "    \"four\": 4,\n",
    "    \"five\": 5,\n",
    "    \"six\": 6,\n",
    "    \"seven\":7,\n",
    "    \"eight\":8,\n",
    "    \"nine\":9,\n",
    "    \"1\":1,\n",
    "    \"2\":2,\n",
    "    \"3\":3,\n",
    "    \"4\":4,\n",
    "    \"5\":5,\n",
    "    \"6\":6,\n",
    "    \"7\":7,\n",
    "    \"8\":8,\n",
    "    \"9\":9\n",
    "}\n"
   ]
  },
  {
   "cell_type": "code",
   "execution_count": 83,
   "metadata": {},
   "outputs": [
    {
     "name": "stdout",
     "output_type": "stream",
     "text": [
      "56324\n"
     ]
    }
   ],
   "source": [
    "# Day 1 - Part 1\n",
    "\n",
    "total = 0\n",
    "for line in lines:\n",
    "    find_min = {number: line.find(number) for number in numbers if line.find(number) >= 0}\n",
    "    find_max = {number: line.rfind(number) for number in numbers if line.rfind(number) >= 0}\n",
    "\n",
    "    min_key = min(find_min, key=find_min.get)\n",
    "    max_key = max(find_max, key=find_max.get)\n",
    "\n",
    "    total += int(str(word_to_number[min_key]) + str(word_to_number[max_key]))\n",
    "\n",
    "print(total)"
   ]
  },
  {
   "cell_type": "code",
   "execution_count": null,
   "metadata": {},
   "outputs": [],
   "source": []
  },
  {
   "cell_type": "code",
   "execution_count": null,
   "metadata": {},
   "outputs": [],
   "source": []
  }
 ],
 "metadata": {
  "kernelspec": {
   "display_name": ".venv",
   "language": "python",
   "name": "python3"
  },
  "language_info": {
   "codemirror_mode": {
    "name": "ipython",
    "version": 3
   },
   "file_extension": ".py",
   "mimetype": "text/x-python",
   "name": "python",
   "nbconvert_exporter": "python",
   "pygments_lexer": "ipython3",
   "version": "3.11.3"
  }
 },
 "nbformat": 4,
 "nbformat_minor": 2
}
